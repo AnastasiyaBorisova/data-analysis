{
  "nbformat": 4,
  "nbformat_minor": 0,
  "metadata": {
    "colab": {
      "provenance": []
    },
    "kernelspec": {
      "name": "python3",
      "display_name": "Python 3"
    },
    "language_info": {
      "name": "python"
    }
  },
  "cells": [
    {
      "cell_type": "markdown",
      "source": [
        "**Задание 2**\n",
        "\n",
        "Написать программу, которая вычисляет площадь фигуры, параметры которой подаются на вход. Фигуры, которые подаются на вход: треугольник, прямоугольник, круг. Результатом работы является словарь, где ключ – это название фигуры, а значение – это площадь."
      ],
      "metadata": {
        "id": "EMiDiEeuVT7L"
      }
    },
    {
      "cell_type": "code",
      "execution_count": null,
      "metadata": {
        "colab": {
          "base_uri": "https://localhost:8080/"
        },
        "id": "aGqypsX-_yEu",
        "outputId": "1b264a1e-ac4f-4532-bef3-99f30462d2f2"
      },
      "outputs": [
        {
          "output_type": "stream",
          "name": "stdout",
          "text": [
            "Введите цифры через пробел\n",
            "1\n",
            "1\n",
            "{'Фигура': 'Круг', 'Площадь': 3.14}\n"
          ]
        }
      ],
      "source": [
        "import math\n",
        "\n",
        "print('Введите цифры через пробел')\n",
        "n = input().split()\n",
        "n = [int(i) for i in n]\n",
        "for i in n:\n",
        "  i = int(i)\n",
        "if len(n) == 1:\n",
        "  a = 'Круг'\n",
        "  s = 3.14*n[0]**2\n",
        "if len(n) == 2:\n",
        "  a = 'Прямоугольник'\n",
        "  s = n[0]*n[1]\n",
        "if len(n) == 3:\n",
        "  a = 'Треугольник'\n",
        "  p = (n[0]+n[1]+n[2])/2\n",
        "  s = math.sqrt(p)*(p-n[0])*(p-n[1])*(p-n[2])\n",
        "\n",
        "d = {'Фигура': a, 'Площадь': s}\n",
        "print(d)"
      ]
    },
    {
      "cell_type": "markdown",
      "source": [
        "**Задание 3**\n",
        "\n",
        "Написать программу, которая на вход получает два числа и операцию, которую к ним нужно применить. Должны быть реализованы следующие операции: +, -, /, //, abs – модуль, pow или ** – возведение в степень."
      ],
      "metadata": {
        "id": "zpTUgVzeVOA9"
      }
    },
    {
      "cell_type": "code",
      "source": [
        "print(\"Числа:\")\n",
        "a = input().split()\n",
        "print(\"Знак:\")\n",
        "z = input()\n",
        "if len(a) == 2:\n",
        "  b, a = int(a[1]), int(a[0])\n",
        "else:\n",
        "  a = int(a[0])\n",
        "if z == '+':\n",
        "  res = a + b\n",
        "if z == '-':\n",
        "  res = a - b\n",
        "if z == '/':\n",
        "  res = a / b\n",
        "if z == '//':\n",
        "  res = a // b\n",
        "if z == '**':\n",
        "  res = a ** b\n",
        "if z == 'abs':\n",
        "  res = abs(a)\n",
        "print(res)"
      ],
      "metadata": {
        "colab": {
          "base_uri": "https://localhost:8080/"
        },
        "id": "82e4TEe1VS9M",
        "outputId": "a6d0b969-9392-47a3-e33b-c071e0669ddd"
      },
      "execution_count": null,
      "outputs": [
        {
          "output_type": "stream",
          "name": "stdout",
          "text": [
            "Числа:\n",
            "1 3\n",
            "Знак:\n",
            "\n",
            "1\n"
          ]
        }
      ]
    },
    {
      "cell_type": "markdown",
      "source": [
        "**Задание 4**\n",
        "\n",
        "Напишите программу, которая считывает с консоли числа (по одному в строке) до тех пор, пока сумма введённых чисел не будет равна 0 и после этого выводит сумму квадратов всех считанных чисел."
      ],
      "metadata": {
        "id": "2PQHxc4SaM2f"
      }
    },
    {
      "cell_type": "code",
      "source": [
        "sum = 0\n",
        "sum_k = 0\n",
        "while(True):\n",
        "  c = float(input())\n",
        "  sum += c\n",
        "  sum_k += c**2\n",
        "  if sum == 0:\n",
        "      break\n",
        "print(sum)"
      ],
      "metadata": {
        "id": "td1VP9FgaKr0",
        "colab": {
          "base_uri": "https://localhost:8080/"
        },
        "outputId": "791062a5-693a-4e71-e3de-b73f2db7324e"
      },
      "execution_count": null,
      "outputs": [
        {
          "output_type": "stream",
          "name": "stdout",
          "text": [
            "1\n",
            "2\n",
            "3\n",
            "-6\n",
            "0.0\n"
          ]
        }
      ]
    },
    {
      "cell_type": "markdown",
      "source": [
        "**Задание 5**\n",
        "\n",
        "Напишите программу, которая выводит последовательность чисел, длинною N, где каждое число повторяется столько раз, чему оно равно. На вход программе передаётся неотрицательное целое число N. Например, если N = 7, то программа должна вывести 1 2 2 3 3 3 4. Вывод элементов списка через пробел – print(*list)."
      ],
      "metadata": {
        "id": "K3ytWGwwc9e0"
      }
    },
    {
      "cell_type": "code",
      "source": [
        "N = int(input())\n",
        "arr = list()\n",
        "for i in range (1, N):\n",
        "  c = i\n",
        "  for j in range(i):\n",
        "    if len(arr) == N:\n",
        "      break\n",
        "    arr.append(i)\n",
        "print(*arr)"
      ],
      "metadata": {
        "colab": {
          "base_uri": "https://localhost:8080/"
        },
        "id": "KAH0K5xLc_K7",
        "outputId": "0a919968-98f5-4dab-e655-a67905624c05"
      },
      "execution_count": null,
      "outputs": [
        {
          "output_type": "stream",
          "name": "stdout",
          "text": [
            "7\n",
            "1 2 2 3 3 3 4\n"
          ]
        }
      ]
    },
    {
      "cell_type": "markdown",
      "source": [
        "**Задание 6**\n",
        "\n",
        "Даны два списка:\n",
        "А = [1, 2, 3, 4, 2, 1, 3, 4, 5, 6, 5, 4, 3, 2]\n",
        "В = [‘a’, ’b’, ’c’, ’c’, ’c’, ’b’, ’a’, ’c’, ’a’, ’a’, ’b’, ’c’, ’b’, ’a’]\n",
        "Создать словарь, в котором ключи – это содержимое списка В, а значения для ключей словаря – это сумма всех элементов списка А в соответствии с буквой, содержащийся на той же позиции в списке В. Пример результата программы: {‘a’ : 10, ‘b’ : 15, ‘c’ : 6}.\n"
      ],
      "metadata": {
        "id": "lfzjZhNfdPI-"
      }
    },
    {
      "cell_type": "code",
      "source": [
        "A = [1, 2, 3, 4, 2, 1, 3, 4, 5, 6, 5, 4, 3, 2]\n",
        "B = ['a', 'b', 'c', 'c', 'c', 'b', 'a', 'c', 'a', 'a', 'b', 'c', 'b', 'a']\n",
        "d = {}\n",
        "b = set(B)\n",
        "for i in B:\n",
        "  sum = 0\n",
        "  for j in range(len(A)):\n",
        "    if B[j] == i:\n",
        "      sum += A[j]\n",
        "  d[i] = sum\n",
        "print(d)"
      ],
      "metadata": {
        "colab": {
          "base_uri": "https://localhost:8080/"
        },
        "id": "ycEATYfzda49",
        "outputId": "29f3e34c-145b-45ed-967b-9572abc62678"
      },
      "execution_count": null,
      "outputs": [
        {
          "output_type": "stream",
          "name": "stdout",
          "text": [
            "{'a': 17, 'b': 11, 'c': 17}\n"
          ]
        }
      ]
    },
    {
      "cell_type": "markdown",
      "source": [
        "Задание 7-12\n",
        "\n",
        "7. Скачать и загрузить данные о стоимости домов в калифорнии, используя библиотеку sklearn.\n",
        "8. Использовать метод info().\n",
        "9. Узнать, есть ли пропущенные значения, используя isna().sum().\n",
        "10. Вывести записи, где средний возраст домов в районе более 50 лет и население более 2500 человек, используя метод loc().\n",
        "11. Узнать максимальное и минимальное значения медианной стоимости дома.\n",
        "12. Используя метод apply(), вывести на экран название признака и его среднее значение."
      ],
      "metadata": {
        "id": "19imp6v-iagh"
      }
    },
    {
      "cell_type": "code",
      "source": [
        "from sklearn.datasets import fetch_california_housing\n",
        "df = fetch_california_housing(as_frame = True)\n",
        "data = df.data\n",
        "print(data.info())"
      ],
      "metadata": {
        "colab": {
          "base_uri": "https://localhost:8080/"
        },
        "id": "SbXC857ZhQJP",
        "outputId": "63509053-7096-440e-c3c7-f295b9c9b88e"
      },
      "execution_count": null,
      "outputs": [
        {
          "output_type": "stream",
          "name": "stdout",
          "text": [
            "0        4.526\n",
            "1        3.585\n",
            "2        3.521\n",
            "3        3.413\n",
            "4        3.422\n",
            "         ...  \n",
            "20635    0.781\n",
            "20636    0.771\n",
            "20637    0.923\n",
            "20638    0.847\n",
            "20639    0.894\n",
            "Name: MedHouseVal, Length: 20640, dtype: float64\n",
            "<class 'pandas.core.frame.DataFrame'>\n",
            "RangeIndex: 20640 entries, 0 to 20639\n",
            "Data columns (total 8 columns):\n",
            " #   Column      Non-Null Count  Dtype  \n",
            "---  ------      --------------  -----  \n",
            " 0   MedInc      20640 non-null  float64\n",
            " 1   HouseAge    20640 non-null  float64\n",
            " 2   AveRooms    20640 non-null  float64\n",
            " 3   AveBedrms   20640 non-null  float64\n",
            " 4   Population  20640 non-null  float64\n",
            " 5   AveOccup    20640 non-null  float64\n",
            " 6   Latitude    20640 non-null  float64\n",
            " 7   Longitude   20640 non-null  float64\n",
            "dtypes: float64(8)\n",
            "memory usage: 1.3 MB\n",
            "None\n"
          ]
        }
      ]
    },
    {
      "cell_type": "code",
      "source": [
        "print(data.isna().sum())"
      ],
      "metadata": {
        "colab": {
          "base_uri": "https://localhost:8080/"
        },
        "id": "0xt1WOyjncdc",
        "outputId": "d272c852-4f3d-41c8-f20a-26018d3df2e3"
      },
      "execution_count": null,
      "outputs": [
        {
          "output_type": "stream",
          "name": "stdout",
          "text": [
            "MedInc        0\n",
            "HouseAge      0\n",
            "AveRooms      0\n",
            "AveBedrms     0\n",
            "Population    0\n",
            "AveOccup      0\n",
            "Latitude      0\n",
            "Longitude     0\n",
            "dtype: int64\n"
          ]
        }
      ]
    },
    {
      "cell_type": "code",
      "source": [
        "print(data.loc[(data.HouseAge > 50) & (data.Population > 2500)])"
      ],
      "metadata": {
        "colab": {
          "base_uri": "https://localhost:8080/"
        },
        "id": "ifBmoAgJnqcv",
        "outputId": "9af6e711-86a7-431c-ef17-b19bc332db3d"
      },
      "execution_count": null,
      "outputs": [
        {
          "output_type": "stream",
          "name": "stdout",
          "text": [
            "       MedInc  HouseAge  AveRooms  AveBedrms  Population    AveOccup  \\\n",
            "460    1.4012      52.0  3.105714   1.060000      3337.0    9.534286   \n",
            "4131   3.5349      52.0  4.646119   1.047945      2589.0    5.910959   \n",
            "4440   2.6806      52.0  4.806283   1.057592      3062.0    4.007853   \n",
            "5986   1.8750      52.0  4.500000   1.206349      2688.0   21.333333   \n",
            "7369   3.1901      52.0  4.730942   1.017937      3731.0    4.182735   \n",
            "8227   2.3305      52.0  3.488860   1.170380      3018.0    3.955439   \n",
            "13034  6.1359      52.0  8.275862   1.517241      6675.0  230.172414   \n",
            "15634  1.8295      52.0  2.628169   1.053521      2957.0    4.164789   \n",
            "15652  0.9000      52.0  2.237474   1.053535      3260.0    2.237474   \n",
            "15657  2.5166      52.0  2.839075   1.184049      3436.0    1.621520   \n",
            "15659  1.7240      52.0  2.278566   1.082348      4518.0    1.780142   \n",
            "15795  2.5755      52.0  3.402576   1.058776      2619.0    2.108696   \n",
            "15868  2.8135      52.0  4.584329   1.041169      2987.0    3.966799   \n",
            "\n",
            "       Latitude  Longitude  \n",
            "460       37.87    -122.26  \n",
            "4131      34.13    -118.20  \n",
            "4440      34.08    -118.21  \n",
            "5986      34.10    -117.71  \n",
            "7369      33.97    -118.21  \n",
            "8227      33.78    -118.20  \n",
            "13034     38.69    -121.15  \n",
            "15634     37.80    -122.41  \n",
            "15652     37.80    -122.41  \n",
            "15657     37.79    -122.41  \n",
            "15659     37.79    -122.41  \n",
            "15795     37.77    -122.42  \n",
            "15868     37.76    -122.41  \n"
          ]
        }
      ]
    },
    {
      "cell_type": "code",
      "source": [
        "print('max:', df.target.max(), 'min:', df.target.min())"
      ],
      "metadata": {
        "colab": {
          "base_uri": "https://localhost:8080/"
        },
        "id": "5wZCs76Tn4LJ",
        "outputId": "6586d499-4f70-43db-ac52-ceb592bf555a"
      },
      "execution_count": null,
      "outputs": [
        {
          "output_type": "stream",
          "name": "stdout",
          "text": [
            "max: 5.00001 min: 0.14999\n"
          ]
        }
      ]
    },
    {
      "cell_type": "code",
      "source": [
        "def func_mean(zn):\n",
        "  print(zn.name, zn.mean())\n",
        "\n",
        "print(data.apply(func_mean, axis = 0))"
      ],
      "metadata": {
        "colab": {
          "base_uri": "https://localhost:8080/"
        },
        "id": "omXYp0tloWuY",
        "outputId": "955d8f80-3b73-4b3f-b21b-fb1ddd9c5c64"
      },
      "execution_count": null,
      "outputs": [
        {
          "output_type": "stream",
          "name": "stdout",
          "text": [
            "MedInc 3.8706710029069766\n",
            "HouseAge 28.639486434108527\n",
            "AveRooms 5.428999742190376\n",
            "AveBedrms 1.096675149606208\n",
            "Population 1425.4767441860465\n",
            "AveOccup 3.0706551594363742\n",
            "Latitude 35.63186143410853\n",
            "Longitude -119.56970445736432\n",
            "MedInc        None\n",
            "HouseAge      None\n",
            "AveRooms      None\n",
            "AveBedrms     None\n",
            "Population    None\n",
            "AveOccup      None\n",
            "Latitude      None\n",
            "Longitude     None\n",
            "dtype: object\n"
          ]
        }
      ]
    }
  ]
}